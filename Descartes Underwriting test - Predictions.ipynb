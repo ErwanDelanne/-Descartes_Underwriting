{
 "cells": [
  {
   "cell_type": "markdown",
   "metadata": {},
   "source": [
    "# Descartes Underwriting technical test"
   ]
  },
  {
   "cell_type": "markdown",
   "metadata": {},
   "source": [
    "Please, see the notebook \"Descartes Underwriting test - Model generation\" first."
   ]
  },
  {
   "cell_type": "markdown",
   "metadata": {},
   "source": [
    "## I) Librairies, folder, function"
   ]
  },
  {
   "cell_type": "code",
   "execution_count": 1,
   "metadata": {},
   "outputs": [],
   "source": [
    "import pandas as pd\n",
    "import numpy as np\n",
    "from pickle import load"
   ]
  },
  {
   "cell_type": "markdown",
   "metadata": {},
   "source": [
    "##### <font color='red'>ENTER YOUR FOLDER HERE</font>"
   ]
  },
  {
   "cell_type": "code",
   "execution_count": 2,
   "metadata": {},
   "outputs": [],
   "source": [
    "path = r'C:\\Users\\erwan_000\\Descartes Underwriting\\auto-insurance-fall-2017'"
   ]
  },
  {
   "cell_type": "code",
   "execution_count": 3,
   "metadata": {},
   "outputs": [],
   "source": [
    "def one_hot_enconding(df,column_name_to_ohe):\n",
    "    if column_name_to_ohe in df.columns:\n",
    "        one_hot = pd.get_dummies(df[column_name_to_ohe])\n",
    "        df = df.drop(column_name_to_ohe,axis = 1)\n",
    "        df = df.join(one_hot)\n",
    "    else:\n",
    "        print(\"/!\\ Column %s doesn't exist in the dataframe. No modification\" %column_name_to_ohe)\n",
    "    return df\n",
    "\n",
    "def configure_df_to_predict(df):\n",
    "    # same modifications as in the notebook \"Descartes Underwriting test - Model generation\"\n",
    "    df['INCOME']=df['INCOME'].replace('[\\$,]', '', regex=True).astype(float)\n",
    "    df['PARENT1']=df['PARENT1'].replace({'No':0,'Yes':1})\n",
    "    df['HOME_VAL']=df['HOME_VAL'].replace('[\\$,]', '', regex=True).astype(float)\n",
    "    df['MSTATUS']=df['MSTATUS'].replace({'z_No':0,'Yes':1})\n",
    "    df['SEX']=df['SEX'].replace({'z_F':0,'M':1})\n",
    "    df=one_hot_enconding(df,'EDUCATION')\n",
    "    df=one_hot_enconding(df,'JOB')\n",
    "    df['CAR_USE']=df['CAR_USE'].replace({'Private':0,'Commercial':1})\n",
    "    df['BLUEBOOK']=df['BLUEBOOK'].replace('[\\$,]', '', regex=True).astype(float)\n",
    "    df=one_hot_enconding(df,'CAR_TYPE')\n",
    "    df['RED_CAR']=df['RED_CAR'].replace({'no':0,'yes':1})\n",
    "    df['OLDCLAIM']=df['OLDCLAIM'].replace('[\\$,]', '', regex=True).astype(float)\n",
    "    df['REVOKED']=df['REVOKED'].replace({'No':0,'Yes':1})\n",
    "    df.loc[df['CAR_AGE'] < 0, 'CAR_AGE']=np.nan\n",
    "    df['URBANICITY']=df['URBANICITY'].replace({'Highly Urban/ Urban':0,'z_Highly Rural/ Rural':1})\n",
    "    del df['TARGET_AMT']\n",
    "    del df['INDEX']\n",
    "    df = df.fillna(df.mean())\n",
    "    df = df[['z_High School', 'Manager', 'z_Blue Collar', 'CAR_AGE', 'KIDSDRIV', 'AGE', 'HOMEKIDS', 'INCOME',\n",
    "             'PARENT1', 'HOME_VAL', 'MSTATUS', 'CAR_USE', 'BLUEBOOK', 'OLDCLAIM', 'CLM_FREQ', 'REVOKED', 'MVR_PTS',\n",
    "             'URBANICITY']]\n",
    "    return df    "
   ]
  },
  {
   "cell_type": "markdown",
   "metadata": {},
   "source": [
    "## II) Data import and configuation"
   ]
  },
  {
   "cell_type": "code",
   "execution_count": 4,
   "metadata": {},
   "outputs": [],
   "source": [
    "df = pd.read_csv(path + '\\\\test_auto.csv')"
   ]
  },
  {
   "cell_type": "code",
   "execution_count": 5,
   "metadata": {},
   "outputs": [],
   "source": [
    "df_to_predict = configure_df_to_predict(df.loc[:, df.columns != 'TARGET_FLAG'].copy())"
   ]
  },
  {
   "cell_type": "code",
   "execution_count": 6,
   "metadata": {},
   "outputs": [],
   "source": [
    "# scaler used for model creation\n",
    "scaler = load(open(path + '\\descartes_underwriting_scaler.pkl', 'rb'))\n",
    "# applying the scaler to df_to_predict\n",
    "df_to_predict = scaler.transform(df_to_predict)"
   ]
  },
  {
   "cell_type": "markdown",
   "metadata": {},
   "source": [
    "## III) Predictions"
   ]
  },
  {
   "cell_type": "code",
   "execution_count": 7,
   "metadata": {},
   "outputs": [],
   "source": [
    "model = load(open(path + '\\descartes_underwriting_model.pkl', 'rb'))"
   ]
  },
  {
   "cell_type": "code",
   "execution_count": 8,
   "metadata": {},
   "outputs": [],
   "source": [
    "predictions = list(model.predict(df_to_predict))"
   ]
  },
  {
   "cell_type": "code",
   "execution_count": 9,
   "metadata": {},
   "outputs": [],
   "source": [
    "df_results = pd.DataFrame(df['INDEX'].copy())\n",
    "df_results['prediction'] = predictions\n",
    "df_results.to_csv(path  + '\\df_results.csv', index = False)"
   ]
  }
 ],
 "metadata": {
  "kernelspec": {
   "display_name": "Python 3",
   "language": "python",
   "name": "python3"
  },
  "language_info": {
   "codemirror_mode": {
    "name": "ipython",
    "version": 3
   },
   "file_extension": ".py",
   "mimetype": "text/x-python",
   "name": "python",
   "nbconvert_exporter": "python",
   "pygments_lexer": "ipython3",
   "version": "3.8.5"
  }
 },
 "nbformat": 4,
 "nbformat_minor": 4
}
